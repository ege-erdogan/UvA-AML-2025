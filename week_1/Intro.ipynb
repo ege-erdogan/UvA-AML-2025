{
 "cells": [
  {
   "cell_type": "markdown",
   "metadata": {
    "slideshow": {
     "slide_type": "slide"
    }
   },
   "source": [
    "# 📘 Applied Machine Learning - Week 1\n",
    "\n",
    "**Introduction to Python, NumPy, and Linear Regression**\n",
    "\n",
    "---"
   ]
  },
  {
   "cell_type": "markdown",
   "metadata": {
    "slideshow": {
     "slide_type": "slide"
    }
   },
   "source": [
    "## 📑 Table of Contents\n",
    "\n",
    "1. [**Notebook General Info**](#1.-Notebook-General-Info)\n",
    "2. [**Python Basics**](#2.-Python-Basics)\n",
    "   - [2.1 Basic Types](#2.1-Basic-Types)\n",
    "   - [2.2 Lists and Tuples](#2.2-Lists-and-Tuples)\n",
    "   - [2.3 Dictionaries](#2.3-Dictionaries)\n",
    "   - [2.4 Conditions](#2.4-Conditions)\n",
    "   - [2.5 Loops](#2.5-Loops)\n",
    "   - [2.6 Functions](#2.6-Functions)\n",
    "3. [**NumPy Basics**](#3.-NumPy-Basics)\n",
    "   - [3.1 Arrays](#3.1-Arrays)\n",
    "   - [3.2 Functions and Operations](#3.2-Functions-and-Operations)\n",
    "   - [3.3 Miscellaneous](#3.3-Miscellaneous)\n",
    "4. [**Visualization with Matplotlib**](#4.-Visualization-with-Matplotlib)\n",
    "5. [**Linear Regression**](#5.-Linear-Regression)\n",
    "6. [**Regularization**](#6.-Regularization)"
   ]
  },
  {
   "cell_type": "markdown",
   "metadata": {
    "slideshow": {
     "slide_type": "slide"
    }
   },
   "source": [
    "## 1. Notebook General Info\n",
    "\n",
    "---"
   ]
  },
  {
   "cell_type": "markdown",
   "metadata": {
    "slideshow": {
     "slide_type": "slide"
    }
   },
   "source": [
    "### 📝 Structure\n",
    "\n",
    "Jupyter Notebooks consist of **cells** that can contain different types of content:\n",
    "\n",
    "- **Code cells** - Execute Python code\n",
    "- **Markdown cells** - Display formatted text, equations, and images\n",
    "\n",
    "**Keyboard shortcuts:**\n",
    "- `Shift + Enter` - Execute cell and move to next\n",
    "- `Double-click` - Edit a cell\n",
    "- `Ctrl + B` - Create new cell below"
   ]
  },
  {
   "cell_type": "markdown",
   "metadata": {
    "slideshow": {
     "slide_type": "fragment"
    }
   },
   "source": [
    "### ✍️ Markdown\n",
    "\n",
    "Markdown is a lightweight markup language for formatting text.\n",
    "\n",
    "**Text formatting:**\n",
    "- *Italic* - `*word*`\n",
    "- ~~Strikethrough~~ - `~~word~~`\n",
    "- **Bold** - `**word**`\n",
    "\n",
    "**Lists:**\n",
    "- Item 1\n",
    "- Item 2\n",
    "  - Subitem 2.1\n",
    "  - Subitem 2.2\n",
    "\n",
    "**Tables:**\n",
    "\n",
    "| Language | Filename extension | First appeared |\n",
    "|---------:|:------------------:|:--------------:|\n",
    "| C        | `.h`, `.c`         | 1972           |\n",
    "| C++      | `.h`, `.cpp`       | 1983           |\n",
    "| Swift    | `.swift`           | 2014           |\n",
    "| Python   | `.py`              | 1991           |\n",
    "\n",
    "**Code blocks:**\n",
    "\n",
    "```python\n",
    "def sum(a, b):\n",
    "    return a + b\n",
    "```\n",
    "\n",
    "**Math expressions:**\n",
    "- Inline: $e^{i \\phi} = \\sin(\\phi) + i \\cos(\\phi)$\n",
    "- Display mode:\n",
    "\n",
    "$$\n",
    "\\int\\limits_{-\\infty}^{\\infty} e^{-x^2}dx = \\sqrt{\\pi}\n",
    "$$\n",
    "\n",
    "**Images:**\n",
    "\n",
    "![A cute cat](https://media.istockphoto.com/id/910314172/photo/portrait-of-a-surprised-cat-scottish-straight-closeup.jpg?s=612x612&w=0&k=20&c=6c4Dk1Cl_WJnmF2SPBkZBUE46JoRXR79u59Mk-XsSW0=)\n",
    "\n",
    "**Links:**\n",
    "- [Markdown Cheatsheet](https://github.com/adam-p/markdown-here/wiki/Markdown-Cheatsheet)"
   ]
  },
  {
   "cell_type": "markdown",
   "metadata": {},
   "source": [
    "### 💻 Code Cells\n",
    "\n",
    "- Python is an **interpreted language**, meaning the code is read line by line instead of being transformed to lower-level machine code at once and then being run (as in C).\n",
    "- Code is executed when you press `Shift + Enter`\n",
    "- Variables persist between cell executions in the same notebook session"
   ]
  },
  {
   "cell_type": "markdown",
   "metadata": {},
   "source": [
    "## 2. Python Basics\n",
    "\n",
    "---"
   ]
  },
  {
   "cell_type": "markdown",
   "metadata": {},
   "source": [
    "### 📚 Useful Learning Resources\n",
    "\n",
    "**Tutorials:**\n",
    "- [CodeAcademy Python Course](https://www.codecademy.com/en/tracks/python) - Recommended for beginners!\n",
    "- [The Hitchhiker's Guide to Python](http://docs.python-guide.org/en/latest/)\n",
    "- Video tutorials by *sentdex*:\n",
    "  - [Python 3 Basic Tutorial Series](https://www.youtube.com/watch?v=oVp1vrfL_w4&list=PLQVvvaa0QuDe8XSftW-RAxdo6OmaeL85M)\n",
    "  - [Intermediate Python Programming](https://www.youtube.com/watch?v=YSe9Tu_iNQQ&list=PLQVvvaa0QuDfju7ADVp5W1GF9jVhjbX-_)\n",
    "\n",
    "**Conference Talks:**\n",
    "- David Beazley: [Built in Super Heroes](https://youtu.be/lyDLAutA88s), [Modules and Packages](https://youtu.be/0oTh1CXRaQ0)\n",
    "- Raymond Hettinger: [Transforming Code into Beautiful](https://youtu.be/OSGv2VnC0go), [Beyond PEP 8](https://youtu.be/wf-BqAjZb8M)"
   ]
  },
  {
   "cell_type": "markdown",
   "metadata": {},
   "source": [
    "### 2.1 Basic Types"
   ]
  },
  {
   "cell_type": "markdown",
   "metadata": {},
   "source": [
    "**Key properties:**\n",
    "- **Dynamically typed** - No need to specify variable types: `my_var = 1`\n",
    "- **Strongly typed** - Cannot add incompatible types (e.g., integer + string)"
   ]
  },
  {
   "cell_type": "code",
   "execution_count": null,
   "metadata": {},
   "outputs": [],
   "source": [
    "# For now, this is just a magic\n",
    "from __future__ import print_function, division"
   ]
  },
  {
   "cell_type": "code",
   "execution_count": 3,
   "metadata": {},
   "outputs": [
    {
     "name": "stdout",
     "output_type": "stream",
     "text": [
      "2\n",
      "6.0\n",
      "Hello World\n",
      "Hello World 42\n",
      "False\n",
      "My first program is:\"Hello World\"\n",
      "My first program is:\"Hello World\"\n",
      "My first program is:\"Hello World\"\n"
     ]
    }
   ],
   "source": [
    "# Integer\n",
    "a = 2\n",
    "print(a)\n",
    "\n",
    "# Float\n",
    "a += 4.0\n",
    "print(a)\n",
    "\n",
    "# String\n",
    "b = \"Hello World\"\n",
    "print(b)\n",
    "print(b + \" \" + str(42))\n",
    "\n",
    "# Boolean\n",
    "first_bool_here = False\n",
    "print(first_bool_here)\n",
    "\n",
    "# This is how formatting works\n",
    "print('My first program is:\"%s\"' % b)  # old style\n",
    "print('My first program is:\"{}\"'.format(b))  # new style\n",
    "print(f'My first program is:\"{b}\"')  # even newer style"
   ]
  },
  {
   "cell_type": "code",
   "execution_count": 4,
   "metadata": {},
   "outputs": [
    {
     "name": "stdout",
     "output_type": "stream",
     "text": [
      "8.4\n",
      "8\n",
      "2\n"
     ]
    }
   ],
   "source": [
    "num = 42\n",
    "print(42 / 5)  # a regular division\n",
    "print(42 // 5)  # an integer division\n",
    "print(42 % 5)  # a remainder"
   ]
  },
  {
   "cell_type": "markdown",
   "metadata": {},
   "source": [
    "### 2.2 Lists and Tuples"
   ]
  },
  {
   "cell_type": "markdown",
   "metadata": {},
   "source": [
    "**Key differences:**\n",
    "\n",
    "| Feature | `list` | `tuple` |\n",
    "|---------|--------|---------|\n",
    "| **Mutability** | Mutable (can be changed) | Immutable (cannot be changed) |\n",
    "| **Syntax** | `[...]` | `(...)` |\n",
    "| **Use case** | Dynamic collections | Fixed collections, dictionary keys |\n",
    "\n",
    "**Common properties:**\n",
    "- Both are **zero-indexed** (first element is at index 0)\n",
    "- Can store **mixed types** simultaneously\n",
    "- Support slicing and indexing"
   ]
  },
  {
   "cell_type": "code",
   "execution_count": 5,
   "metadata": {},
   "outputs": [
    {
     "name": "stdout",
     "output_type": "stream",
     "text": [
      "[1, 2, 3]\n",
      "['1st', '2nd', '3rd']\n",
      "3\n",
      "['1st', '2nd', '3rd', 2]\n",
      "['1st', '2nd', 0, '3rd', 2]\n",
      "['1st', 'new', 0, '3rd', 2]\n"
     ]
    }
   ],
   "source": [
    "# Lists\n",
    "empty_list = []  # creates an empty list\n",
    "list1 = [1, 2, 3]  # creates a list with elements\n",
    "list2 = [\"1st\", \"2nd\", \"3rd\"]\n",
    "print(list1)  # prints the list\n",
    "print(list2)\n",
    "\n",
    "print(len(list2))  # prints the length of the list\n",
    "\n",
    "list2.append(2)  # appends the item at the end\n",
    "print(list2)  # prints the appended list\n",
    "\n",
    "list2.insert(2, 0)  # inserts 0 at index 3 (zero-indexed)\n",
    "print(list2)\n",
    "\n",
    "list2[1] = \"new\"  # changes the second element of the list (lists are mutable)\n",
    "print(list2)"
   ]
  },
  {
   "cell_type": "code",
   "execution_count": 6,
   "metadata": {},
   "outputs": [
    {
     "name": "stdout",
     "output_type": "stream",
     "text": [
      "6\n"
     ]
    }
   ],
   "source": [
    "# You can create a list of lists:\n",
    "list_of_lists = [[1, 2, 3], [4, 5, 6], [7, 8, 9]]\n",
    "print(list_of_lists[1][2])  # second list, third element"
   ]
  },
  {
   "cell_type": "code",
   "execution_count": 7,
   "metadata": {},
   "outputs": [
    {
     "name": "stdout",
     "output_type": "stream",
     "text": [
      "(1, 'orange', 'fly', 32, None)\n"
     ]
    },
    {
     "ename": "TypeError",
     "evalue": "'tuple' object does not support item assignment",
     "output_type": "error",
     "traceback": [
      "\u001b[31m---------------------------------------------------------------------------\u001b[39m",
      "\u001b[31mTypeError\u001b[39m                                 Traceback (most recent call last)",
      "\u001b[36mCell\u001b[39m\u001b[36m \u001b[39m\u001b[32mIn[7]\u001b[39m\u001b[32m, line 11\u001b[39m\n\u001b[32m      8\u001b[39m super_tuple = tuple1 + tuple2 + tuple3\n\u001b[32m      9\u001b[39m \u001b[38;5;28mprint\u001b[39m(super_tuple)\n\u001b[32m---> \u001b[39m\u001b[32m11\u001b[39m \u001b[43msuper_tuple\u001b[49m\u001b[43m[\u001b[49m\u001b[32;43m1\u001b[39;49m\u001b[43m]\u001b[49m = (\n\u001b[32m     12\u001b[39m     \u001b[33m\"\u001b[39m\u001b[33mnew\u001b[39m\u001b[33m\"\u001b[39m  \u001b[38;5;66;03m# trying to change an element of a tuple raises an error (tuples are immutable)\u001b[39;00m\n\u001b[32m     13\u001b[39m )\n",
      "\u001b[31mTypeError\u001b[39m: 'tuple' object does not support item assignment"
     ]
    }
   ],
   "source": [
    "# Tuples\n",
    "# Empty tuple can't be created.\n",
    "# It is immutable. So it is just nothing\n",
    "tuple1 = (1,)  # Comma is necessary. Otherwise it is a number in parenthesis\n",
    "tuple2 = (\"orange\",)\n",
    "tuple3 = (\"fly\", 32, None)\n",
    "\n",
    "super_tuple = tuple1 + tuple2 + tuple3\n",
    "print(super_tuple)\n",
    "\n",
    "super_tuple[1] = (\n",
    "    \"new\"  # trying to change an element of a tuple raises an error (tuples are immutable)\n",
    ")"
   ]
  },
  {
   "cell_type": "markdown",
   "metadata": {},
   "source": [
    "**Additional list operations:**\n",
    "- Removing elements\n",
    "- Joining lists\n",
    "- Sorting\n",
    "- And more! See this [Python Lists Cheat Sheet](http://www.pythonforbeginners.com/lists/python-lists-cheat-sheet/)\n",
    "\n",
    "#### Slicing - A Python Superpower\n",
    "\n",
    "**Slicing** allows you to access sublists efficiently:\n",
    "\n",
    "- No copying overhead (creates a view, not a copy)\n",
    "- Essential for matrix manipulation\n",
    "- Syntax: `list[start:end:step]`"
   ]
  },
  {
   "cell_type": "code",
   "execution_count": 8,
   "metadata": {},
   "outputs": [
    {
     "name": "stdout",
     "output_type": "stream",
     "text": [
      "[2, 3, 4, 5, 6, 7, 8, 9, 10, 11, 12]\n",
      "[1, 2, 3, 4, 5, 6, 7, 8, 9, 10, 11]\n",
      "[2, 3, 4, 5, 6, 7, 8, 9, 10]\n",
      "[1, 3, 5, 7, 9, 11]\n",
      "[3, 5, 7, 9]\n"
     ]
    }
   ],
   "source": [
    "# This is the worst way of creating a list of consequent integers.\n",
    "# But now we use it just for demostration\n",
    "numbers = [1, 2, 3, 4, 5, 6, 7, 8, 9, 10, 11, 12]\n",
    "print(numbers[1:])  # You can slice it from the given index\n",
    "print(numbers[:-1])  # You can slice it till the given index\n",
    "print(numbers[1:-2])  # You can combine them\n",
    "print(numbers[::2])  # You can choose each second\n",
    "print(numbers[2:-2][::2])  # You can chain slicing"
   ]
  },
  {
   "cell_type": "markdown",
   "metadata": {},
   "source": [
    "### 2.3 Dictionaries"
   ]
  },
  {
   "cell_type": "markdown",
   "metadata": {},
   "source": [
    "**Properties:**\n",
    "- **Key-Value** storage structure\n",
    "- **Mutable** by default\n",
    "- Useful for linking related items\n",
    "- Ordering depends on Python version (3.7+ maintains insertion order)"
   ]
  },
  {
   "cell_type": "code",
   "execution_count": 9,
   "metadata": {},
   "outputs": [
    {
     "name": "stdout",
     "output_type": "stream",
     "text": [
      "{'id': '0x123456', 'age': 28, 'authorized': True}\n",
      "dict_keys([1, 2, 3, 4, 5, 6, 7])\n",
      "{1: 'Mon', 2: 'Tues', 3: 'Wed', 4: 'Thu', 5: 'Fri', 6: 'Sat', 7: 'Sun'}\n",
      "28\n"
     ]
    }
   ],
   "source": [
    "emptydict = {}  # creates empty dict\n",
    "user = {\"id\": \"0x123456\", \"age\": 28, \"authorized\": True}\n",
    "print(user)\n",
    "\n",
    "days = {\n",
    "    1: \"Mon\",\n",
    "    2: \"Tues\",\n",
    "    3: \"Wed\",\n",
    "    4: \"Thu\",\n",
    "    5: \"Fri\",\n",
    "    6: \"Sat\",\n",
    "    7: \"Sun\",\n",
    "}  # A dict with items\n",
    "\n",
    "print(days.keys())  # prints keys\n",
    "print(days)  # prints whole dict\n",
    "age = user[\"age\"]  # accesses the element of the dictionay with key 'age'\n",
    "print(age)"
   ]
  },
  {
   "cell_type": "code",
   "execution_count": 10,
   "metadata": {},
   "outputs": [
    {
     "name": "stdout",
     "output_type": "stream",
     "text": [
      "False\n",
      "{1: '1', '1': 1, 'one': False, 123: 321}\n"
     ]
    }
   ],
   "source": [
    "my_dict = {1: \"1\", \"1\": 1}\n",
    "# Keys are not casted. '1' and 1 are not the same key\n",
    "print(my_dict[1] == my_dict[\"1\"])\n",
    "\n",
    "my_dict[\"one\"] = False\n",
    "my_dict[123] = 321\n",
    "print(my_dict)"
   ]
  },
  {
   "cell_type": "markdown",
   "metadata": {},
   "source": [
    "📖 **Learn more:** [Dictionary Manipulation in Python](http://www.pythonforbeginners.com/dictionary/dictionary-manipulation-in-python)"
   ]
  },
  {
   "cell_type": "markdown",
   "metadata": {},
   "source": [
    "### 2.4 Conditions"
   ]
  },
  {
   "cell_type": "code",
   "execution_count": 11,
   "metadata": {},
   "outputs": [
    {
     "name": "stdout",
     "output_type": "stream",
     "text": [
      "You can not see me\n"
     ]
    }
   ],
   "source": [
    "is_visible = False\n",
    "if is_visible:\n",
    "    print(\"I am visible\")\n",
    "else:\n",
    "    print(\"You can not see me\")"
   ]
  },
  {
   "cell_type": "markdown",
   "metadata": {},
   "source": [
    "**⚠️ Important: Indentation in Python**\n",
    "\n",
    "- All nested code structures are defined by **indentation**\n",
    "- Standard indentation: **4 spaces** (or 1 tab)\n",
    "- Incorrect indentation will cause syntax errors!"
   ]
  },
  {
   "cell_type": "code",
   "execution_count": 12,
   "metadata": {},
   "outputs": [
    {
     "name": "stdout",
     "output_type": "stream",
     "text": [
      "Cat is here\n",
      "There are many animals but fish is not here\n",
      "At least one of my favorite animals is in the list\n"
     ]
    }
   ],
   "source": [
    "animals = [\"cat\", \"dog\", \"monkey\", \"elephant\"]\n",
    "\n",
    "if \"cat\" in animals:\n",
    "    print(\"Cat is here\")\n",
    "\n",
    "if len(animals) > 2 and \"fish\" not in animals:\n",
    "    print(\"There are many animals but fish is not here\")\n",
    "\n",
    "if \"whale\" in animals or \"dog\" in animals:\n",
    "    print(\"At least one of my favorite animals is in the list\")"
   ]
  },
  {
   "cell_type": "code",
   "execution_count": 13,
   "metadata": {},
   "outputs": [
    {
     "name": "stdout",
     "output_type": "stream",
     "text": [
      "redirected\n"
     ]
    }
   ],
   "source": [
    "code = 345\n",
    "\n",
    "if code == 200:\n",
    "    print(\"success\")\n",
    "elif code == 404:\n",
    "    print(\"page not found\")\n",
    "elif 300 <= code < 400:\n",
    "    print(\"redirected\")\n",
    "else:\n",
    "    print(\"unknown error\")"
   ]
  },
  {
   "cell_type": "markdown",
   "metadata": {},
   "source": [
    "### 2.5 Loops"
   ]
  },
  {
   "cell_type": "markdown",
   "metadata": {},
   "source": [
    "**Two types of loops in Python:**\n",
    "\n",
    "1. **`while` loop** - Checks condition before each iteration\n",
    "2. **`for` loop** - Iterates over a sequence of elements"
   ]
  },
  {
   "cell_type": "code",
   "execution_count": 14,
   "metadata": {},
   "outputs": [
    {
     "name": "stdout",
     "output_type": "stream",
     "text": [
      "0\n",
      "1\n",
      "2\n"
     ]
    }
   ],
   "source": [
    "# while\n",
    "i = 0\n",
    "while i < 3:\n",
    "    print(i)\n",
    "    i += 1"
   ]
  },
  {
   "cell_type": "code",
   "execution_count": 15,
   "metadata": {},
   "outputs": [
    {
     "name": "stdout",
     "output_type": "stream",
     "text": [
      "cat\n",
      "dog\n",
      "monkey\n",
      "elephant\n",
      "\n",
      "Bad way:\n",
      "0\n",
      "1\n",
      "2\n",
      "3\n",
      "4\n",
      "\n",
      "Good way:\n",
      "0\n",
      "1\n",
      "2\n",
      "3\n",
      "4\n",
      "\n",
      "Advanced example:\n",
      "20\n",
      "18\n",
      "16\n",
      "14\n",
      "12\n",
      "10\n"
     ]
    }
   ],
   "source": [
    "# for loop\n",
    "for animal in animals:\n",
    "    print(animal)\n",
    "\n",
    "# In order to make a c-like loop,\n",
    "# you have to create a list of consecutive numbers\n",
    "print(\"\\nBad way:\")\n",
    "numbers = [0, 1, 2, 3, 4]\n",
    "for number in numbers:\n",
    "    print(number)\n",
    "\n",
    "# As we already stated, it is not the best way of creating such lists\n",
    "# Here is the best way:\n",
    "print(\"\\nGood way:\")\n",
    "for number in range(5):\n",
    "    print(number)\n",
    "\n",
    "print(\"\\nAdvanced example:\")\n",
    "for number in reversed(range(10, 22, 2)):\n",
    "    print(number)"
   ]
  },
  {
   "cell_type": "markdown",
   "metadata": {},
   "source": [
    "### 2.6 Functions"
   ]
  },
  {
   "cell_type": "markdown",
   "metadata": {},
   "source": [
    "**Key concepts:**\n",
    "- Functions are declared with the `def` statement\n",
    "- Functions are **objects** (just like floats, strings, etc.)\n",
    "- Can be passed as arguments to other functions"
   ]
  },
  {
   "cell_type": "code",
   "execution_count": 16,
   "metadata": {},
   "outputs": [
    {
     "name": "stdout",
     "output_type": "stream",
     "text": [
      "Hello AML students\n"
     ]
    }
   ],
   "source": [
    "def function_name():\n",
    "    print(\"Hello AML students\")\n",
    "\n",
    "\n",
    "function_name()"
   ]
  },
  {
   "cell_type": "code",
   "execution_count": 17,
   "metadata": {},
   "outputs": [
    {
     "name": "stdout",
     "output_type": "stream",
     "text": [
      "16\n",
      "40\n"
     ]
    }
   ],
   "source": [
    "# Create a function that multiplies a number by 5 if it is above a given threshold,\n",
    "# otherwise square the input.\n",
    "def manipulate_number(number, threshold):\n",
    "    # Check whether the number is higher than the threshold.\n",
    "    if number > threshold:\n",
    "        return number * 5\n",
    "    else:\n",
    "        return number**2\n",
    "\n",
    "\n",
    "print(manipulate_number(4, 6))\n",
    "print(manipulate_number(8, 7))"
   ]
  },
  {
   "cell_type": "code",
   "execution_count": 18,
   "metadata": {},
   "outputs": [
    {
     "name": "stdout",
     "output_type": "stream",
     "text": [
      "3.0\n",
      "3.0\n",
      "6.0\n"
     ]
    }
   ],
   "source": [
    "def linear(x, k, b=0):  # b=0 if b is not specified in function call\n",
    "    return k * x + b\n",
    "\n",
    "\n",
    "print(linear(1, 3.0))  # we don't pass any keys of the arguments\n",
    "print(linear(k=1, x=3.0))  # we pass the keys, sometimes to reorder arguments.\n",
    "print(\n",
    "    linear(1, k=3.0, b=3.0)\n",
    ")  # we pass b=3. and specify it because b=3.0 is not the default value"
   ]
  },
  {
   "cell_type": "code",
   "execution_count": 19,
   "metadata": {},
   "outputs": [
    {
     "name": "stdout",
     "output_type": "stream",
     "text": [
      "True\n"
     ]
    }
   ],
   "source": [
    "def are_close(a, b):\n",
    "    return (a - b) ** 2 < 1e-6\n",
    "\n",
    "\n",
    "# Functions could be passed as arguments\n",
    "def evaluate(func, arg_1, arg_2):\n",
    "    return func(arg_1, arg_2)\n",
    "\n",
    "\n",
    "print(evaluate(are_close, 0.333, 1.0 / 3))"
   ]
  },
  {
   "cell_type": "markdown",
   "metadata": {},
   "source": [
    "**💡 Tips for Python beginners:**\n",
    "\n",
    "- Implement simple functions and experiment with printing results\n",
    "- Ask questions when code doesn't behave as expected!\n",
    "- Get function documentation: `help(function_name)`\n",
    "- In Jupyter Notebook: Press `Shift + Tab + Tab` for inline help"
   ]
  },
  {
   "cell_type": "code",
   "execution_count": null,
   "metadata": {},
   "outputs": [],
   "source": [
    "# 🧪 Experiment here: Create your own functions!\n",
    "# Tip: Press Ctrl+B to create a new cell below"
   ]
  },
  {
   "cell_type": "markdown",
   "metadata": {},
   "source": [
    "## 3. NumPy Basics\n",
    "\n",
    "---"
   ]
  },
  {
   "cell_type": "markdown",
   "metadata": {},
   "source": [
    "### 🔢 Introduction to NumPy\n",
    "\n",
    "[**NumPy**](http://www.numpy.org/) is the fundamental package for scientific computing with Python.\n",
    "\n",
    "**Why NumPy?**\n",
    "- Core functions written in **C/C++** and **Fortran** for performance\n",
    "- Faster than pure Python (or at least equally fast)\n",
    "- Industry standard for matrix operations and linear algebra\n",
    "- Essential for machine learning and data science"
   ]
  },
  {
   "cell_type": "code",
   "execution_count": 20,
   "metadata": {},
   "outputs": [],
   "source": [
    "# The first import\n",
    "import numpy as np"
   ]
  },
  {
   "cell_type": "markdown",
   "metadata": {
    "collapsed": true,
    "jupyter": {
     "outputs_hidden": true
    }
   },
   "source": [
    "**Import conventions:**\n",
    "\n",
    "```python\n",
    "import library                    # Full library access: library.utils.somefunc(x)\n",
    "import library as lib             # Shorter alias: lib.utils.other_func(x, y)\n",
    "from library.utils import somefunc # Direct import: somefunc(x)\n",
    "```\n",
    "\n",
    "**Standard convention:** `import numpy as np` is the universally accepted way to import NumPy."
   ]
  },
  {
   "cell_type": "markdown",
   "metadata": {},
   "source": [
    "### 3.1 Arrays"
   ]
  },
  {
   "cell_type": "markdown",
   "metadata": {},
   "source": [
    "**NumPy Arrays:**\n",
    "\n",
    "The core feature of NumPy is the **ndarray** (n-dimensional array):\n",
    "- Similar to Python lists but with powerful mathematical operations\n",
    "- Efficient storage and computation\n",
    "- Extended with numerous useful methods"
   ]
  },
  {
   "cell_type": "code",
   "execution_count": 21,
   "metadata": {},
   "outputs": [
    {
     "name": "stdout",
     "output_type": "stream",
     "text": [
      "[0. 0. 0. 0. 0.]\n",
      "1...6:\n",
      "[0 1 2 3 4 5 6]\n",
      "An element of c:\n",
      "12\n",
      "Length: 6\n"
     ]
    }
   ],
   "source": [
    "# you can create an array of zeros\n",
    "a = np.zeros(5)\n",
    "print(a)\n",
    "\n",
    "# or an array of consecutive numbers\n",
    "b = np.arange(7)\n",
    "print(\"1...6:\")\n",
    "print(b)\n",
    "\n",
    "# or even an array from a list\n",
    "c = np.array([1, 3, 5, 7, 12, 19])\n",
    "\n",
    "print(\"An element of c:\")\n",
    "print(c[4])\n",
    "print(\"Length:\", len(c))"
   ]
  },
  {
   "cell_type": "markdown",
   "metadata": {},
   "source": [
    "**Multi-dimensional arrays:**\n",
    "\n",
    "- Create arrays of any dimension (matrices, tensors, etc.)\n",
    "- Easy transformation between shapes using `.reshape()`\n",
    "- Efficient row/column access with slicing\n",
    "- Critical for machine learning applications"
   ]
  },
  {
   "cell_type": "code",
   "execution_count": 22,
   "metadata": {},
   "outputs": [
    {
     "name": "stdout",
     "output_type": "stream",
     "text": [
      "[[1 2]\n",
      " [3 4]]\n",
      "[1 2 3 4]\n",
      "[1 2 3 4]\n",
      "[[1 2]\n",
      " [3 4]]\n",
      "2nd column: [2 4]\n",
      "1st row: [1 2]\n"
     ]
    }
   ],
   "source": [
    "# A 2-dimensional array\n",
    "a = np.array([[1, 2], [3, 4]])\n",
    "print(a)\n",
    "\n",
    "# you can change its shape to make it a 1-dimensional array\n",
    "print(a.ravel())\n",
    "print(a.reshape(4))\n",
    "\n",
    "# and vice versa\n",
    "b = a.ravel()\n",
    "print(b.reshape((2, 2)))\n",
    "\n",
    "# you can access a row or a column\n",
    "print(\"2nd column:\", a[:, 1])\n",
    "print(\"1st row:\", a[0, :])"
   ]
  },
  {
   "cell_type": "markdown",
   "metadata": {},
   "source": [
    "### 3.2 Functions and Operations\n",
    "\n",
    "**NumPy supports vectorized operations** - operations applied to entire arrays at once."
   ]
  },
  {
   "cell_type": "code",
   "execution_count": 23,
   "metadata": {},
   "outputs": [
    {
     "name": "stdout",
     "output_type": "stream",
     "text": [
      "[8. 8. 8. 8. 8. 8. 8. 8.]\n",
      "[24. 24. 24. 24. 24. 24. 24. 24.]\n",
      "[ 3. 24.  3. 24.  3. 24.  3. 24.]\n"
     ]
    }
   ],
   "source": [
    "newarray = np.zeros(8)\n",
    "# instead of adding a number in a loop,\n",
    "# you can do it in one line\n",
    "newarray += 8\n",
    "print(newarray)\n",
    "\n",
    "# the same for other basic operations\n",
    "newarray *= 3\n",
    "print(newarray)\n",
    "\n",
    "# and even with slicing\n",
    "newarray[::2] /= 8\n",
    "print(newarray)"
   ]
  },
  {
   "cell_type": "markdown",
   "metadata": {},
   "source": [
    "**Element-wise operations** on arrays of the same shape:"
   ]
  },
  {
   "cell_type": "code",
   "execution_count": 24,
   "metadata": {},
   "outputs": [
    {
     "name": "stdout",
     "output_type": "stream",
     "text": [
      "Arrays:\n",
      "[1 9 3 4]\n",
      "[0 1 2 3]\n",
      "Addition:\n",
      "[ 1 10  5  7]\n",
      "[ 1 10  5  7]\n",
      "Multiplication:\n",
      "[ 0  9  6 12]\n",
      "[ 0  9  6 12]\n",
      "Division:\n",
      "[0.         0.11111111 0.66666667 0.75      ]\n",
      "[0.         0.11111111 0.66666667 0.75      ]\n"
     ]
    }
   ],
   "source": [
    "arr_1 = np.array([1, 9, 3, 4])\n",
    "arr_2 = np.arange(4)\n",
    "print(\"Arrays:\")\n",
    "print(arr_1)\n",
    "print(arr_2)\n",
    "\n",
    "print(\"Addition:\")\n",
    "print(arr_1 + arr_2)\n",
    "print(np.add(arr_1, arr_2))  # the same\n",
    "\n",
    "print(\"Multiplication:\")\n",
    "print(arr_1 * arr_2)\n",
    "print(np.multiply(arr_1, arr_2))  # the same\n",
    "\n",
    "print(\"Division:\")\n",
    "print(arr_2 / arr_1)\n",
    "print(np.divide(1.0 * arr_2, arr_1))  # the same"
   ]
  },
  {
   "cell_type": "markdown",
   "metadata": {},
   "source": [
    "**Rich mathematical function library:**\n",
    "\n",
    "**Atomic functions** (element-wise):\n",
    "- Trigonometric: `np.sin()`, `np.cos()`, `np.tan()`\n",
    "- Exponential/Logarithmic: `np.exp()`, `np.log()`, `np.log10()`\n",
    "- Power: `np.square()`, `np.power()`, `np.sqrt()`\n",
    "\n",
    "**Statistical functions:**\n",
    "- `np.mean()` - Mean value\n",
    "- `np.std()` - Standard deviation\n",
    "- `np.sum()`, `np.min()`, `np.max()`, etc."
   ]
  },
  {
   "cell_type": "code",
   "execution_count": 25,
   "metadata": {},
   "outputs": [
    {
     "name": "stdout",
     "output_type": "stream",
     "text": [
      "x:\n",
      "[0.  0.2 0.4 0.6 0.8 1. ]\n",
      "Mean x:\n",
      "0.5\n",
      "Std x:\n",
      "0.3415650255319866\n",
      "x^2:\n",
      "[0.   0.04 0.16 0.36 0.64 1.  ]\n",
      "[0.   0.04 0.16 0.36 0.64 1.  ]\n",
      "[0.   0.04 0.16 0.36 0.64 1.  ]\n",
      "[0.   0.04 0.16 0.36 0.64 1.  ]\n",
      "sin(x):\n",
      "[0.         0.19866933 0.38941834 0.56464247 0.71735609 0.84147098]\n",
      "Mean e^x:\n",
      "1.7465281688572436\n"
     ]
    }
   ],
   "source": [
    "x = np.linspace(0, 1, 6)\n",
    "print(\"x:\")\n",
    "print(x)\n",
    "\n",
    "print(\"Mean x:\")\n",
    "print(np.mean(x))\n",
    "\n",
    "print(\"Std x:\")\n",
    "print(x.std())\n",
    "\n",
    "print(\"x^2:\")\n",
    "print(x * x)  # as elementwise product\n",
    "print(np.square(x))  # with a special function\n",
    "print(np.power(x, 2))  # as a power function with power=2\n",
    "print(x**2)  # as you are expected to do it with a number\n",
    "\n",
    "print(\"sin(x):\")\n",
    "print(np.sin(x))\n",
    "\n",
    "print(\"Mean e^x:\")\n",
    "print(np.mean(np.exp(x)))"
   ]
  },
  {
   "cell_type": "markdown",
   "metadata": {},
   "source": [
    "### 3.3 Miscellaneous"
   ]
  },
  {
   "cell_type": "code",
   "execution_count": 26,
   "metadata": {},
   "outputs": [
    {
     "name": "stdout",
     "output_type": "stream",
     "text": [
      "x = [0.         0.34906585 0.6981317  1.04719755 1.3962634  1.74532925\n",
      " 2.0943951  2.44346095 2.7925268  3.14159265] \n",
      "\n",
      "y = [ 1.          0.29690501 -0.21876331 -0.3660254  -0.16837197  0.16837197\n",
      "  0.3660254   0.21876331 -0.29690501 -1.        ] \n",
      "\n",
      "mask = [ True  True False False False  True  True  True False False] \n",
      "\n",
      "positive y = [1.         0.29690501 0.16837197 0.3660254  0.21876331] \n",
      "\n"
     ]
    }
   ],
   "source": [
    "# Indexing\n",
    "x = np.linspace(0, np.pi, 10)\n",
    "y = np.cos(x) - np.sin(2 * x)\n",
    "print(\"x =\", x, \"\\n\")\n",
    "print(\"y =\", y, \"\\n\")\n",
    "# we can create the boolean mask of elements and pass it as indices\n",
    "mask = y > 0\n",
    "print(\"mask =\", mask, \"\\n\")\n",
    "print(\"positive y =\", y[mask], \"\\n\")"
   ]
  },
  {
   "cell_type": "code",
   "execution_count": 27,
   "metadata": {},
   "outputs": [
    {
     "name": "stdout",
     "output_type": "stream",
     "text": [
      "0.09984053869339737\n",
      "Array of random variables\n",
      "[6.90955274 6.61929631 6.11060807]\n",
      "N(x|m=0, s=0.1):\n",
      "[-0.1548131   0.0696828   0.15600878 -0.03549534]\n"
     ]
    }
   ],
   "source": [
    "# NumPy has `random` package\n",
    "x = np.random.random()\n",
    "print(x)\n",
    "\n",
    "# uniform [-2, 8)\n",
    "rand_arr = np.random.uniform(-2, 8, size=3)\n",
    "print(\"Array of random variables\")\n",
    "print(rand_arr)\n",
    "\n",
    "# here is the normal distribution\n",
    "print(\"N(x|m=0, s=0.1):\")\n",
    "print(np.random.normal(scale=0.1, size=4))"
   ]
  },
  {
   "cell_type": "code",
   "execution_count": 28,
   "metadata": {},
   "outputs": [
    {
     "name": "stdout",
     "output_type": "stream",
     "text": [
      "(array([3]),)\n",
      "2\n",
      "[-1  1  2  5]\n"
     ]
    }
   ],
   "source": [
    "# fast search\n",
    "x = np.array([1, 2, 5, -1])\n",
    "print(np.where(x < 0))\n",
    "\n",
    "# retrieve the index of max element\n",
    "print(np.argmax(x))\n",
    "\n",
    "# sory array\n",
    "print(np.sort(x))"
   ]
  },
  {
   "cell_type": "markdown",
   "metadata": {},
   "source": [
    "### 📚 Further Learning Resources\n",
    "\n",
    "- [NumPy Tutorial](http://scipy.github.io/old-wiki/pages/Tentative_NumPy_Tutorial) - Official guide\n",
    "- [100 NumPy Exercises](https://github.com/rougier/numpy-100) - Practice problems\n",
    "- [SciPy Ecosystem](https://www.scipy.org) - Related scientific computing tools\n",
    "- [scikit-learn](http://scikit-learn.org/stable/) - Machine learning library built on NumPy"
   ]
  },
  {
   "cell_type": "markdown",
   "metadata": {},
   "source": [
    "## 4. Visualization with Matplotlib\n",
    "\n",
    "---"
   ]
  },
  {
   "cell_type": "markdown",
   "metadata": {},
   "source": [
    "### 📊 Introduction to Matplotlib\n",
    "\n",
    "**Matplotlib** is the standard library for creating visualizations in Python.\n",
    "\n",
    "**Resources:**\n",
    "- [Matplotlib Tutorial](http://matplotlib.org/users/pyplot_tutorial.html)\n",
    "- [Example Gallery](http://matplotlib.org/gallery.html)\n",
    "\n",
    "**Example plots from Matplotlib gallery:**\n",
    "\n",
    "<link rel=\"stylesheet\" href=\"https://maxcdn.bootstrapcdn.com/bootstrap/4.0.0-beta.2/css/bootstrap.min.css\" integrity=\"sha384-PsH8R72JQ3SOdhVi3uxftmaW6Vc51MKb0q5P2rRUpPvrszuE4W1povHYgTpBfshb\" crossorigin=\"anonymous\">\n",
    "\n",
    "<div class=\"container\" style=\"max-width:100%\">\n",
    "    <div class=\"row\">\n",
    "        <div class=\"col-sm-6\" style=\"display: flex; height: 300px;\">\n",
    "            <img src=\"http://matplotlib.org/_images/fill_demo1.png\" \n",
    "                 style=\"max-width: 100%; max-height: 100%; margin: auto;\">\n",
    "        </div>\n",
    "        <div class=\"col-sm-6\" style=\"display: flex; height: 300px;\">\n",
    "            <img src=\"http://matplotlib.org/_images/errorbar_limits.png\" \n",
    "                 style=\"max-width: 100%; max-height: 100%; margin: auto;\">\n",
    "        </div>\n",
    "    </div>\n",
    "    <div class=\"row\">\n",
    "        <div class=\"col-sm-6\" style=\"display: flex; height: 300px;\">\n",
    "            <img src=\"http://matplotlib.org/_images/subplot_demo.png\" \n",
    "                 style=\"max-width: 100%; max-height: 100%; margin: auto;\">\n",
    "        </div>\n",
    "        <div class=\"col-sm-6\" style=\"display: flex; height: 300px;\">\n",
    "            <img src=\"http://matplotlib.org/_images/histogram_demo_features2.png\" \n",
    "                 style=\"max-width: 100%; max-height: 100%; margin: auto;\">\n",
    "        </div>\n",
    "    </div>\n",
    "</div>"
   ]
  },
  {
   "cell_type": "code",
   "execution_count": 29,
   "metadata": {},
   "outputs": [],
   "source": [
    "# We import `pyplot` from `matplotlib` as `plt`\n",
    "import matplotlib.pyplot as plt\n",
    "\n",
    "# We add %matplotlib flag to specify how the figures should be shown\n",
    "#     inline - static pictures in notebook\n",
    "#     notebook - interactive graphics\n",
    "%matplotlib inline"
   ]
  },
  {
   "cell_type": "code",
   "execution_count": 30,
   "metadata": {},
   "outputs": [
    {
     "data": {
      "image/png": "[encoded data removed]",
      "text/plain": [
       "<Figure size 640x480 with 1 Axes>"
      ]
     },
     "metadata": {},
     "output_type": "display_data"
    }
   ],
   "source": [
    "# let's plot a simple example\n",
    "x = np.arange(100)\n",
    "y = x**2 - x\n",
    "\n",
    "plt.plot(y)\n",
    "plt.show()  # that's it"
   ]
  },
  {
   "cell_type": "code",
   "execution_count": 31,
   "metadata": {},
   "outputs": [
    {
     "data": {
      "image/png": "[encoded data removed]",
      "text/plain": [
       "<Figure size 800x500 with 1 Axes>"
      ]
     },
     "metadata": {},
     "output_type": "display_data"
    }
   ],
   "source": [
    "# A more complex example\n",
    "n_samples = 100\n",
    "x = np.linspace(0.0, 1.0, n_samples)\n",
    "y = x**3 / (np.exp(10 * x + 1e-8) - 1)\n",
    "y /= y.max()\n",
    "y_samples = np.abs(y + 0.1 * y * np.random.normal(size=n_samples))\n",
    "\n",
    "\n",
    "plt.figure(figsize=(8, 5))\n",
    "plt.plot(x, y_samples, \"o\", c=\"orange\", label=\"experiment\")\n",
    "plt.plot(x, y, lw=3, label=\"theory\")\n",
    "plt.grid()\n",
    "plt.title(\"Planck's law\", fontsize=18)\n",
    "plt.legend(loc=\"best\", fontsize=14)\n",
    "plt.ylabel(\"Relative spectral radiance\", fontsize=14)\n",
    "plt.xlabel(\"Relative frequency\", fontsize=14)\n",
    "plt.show()"
   ]
  },
  {
   "cell_type": "markdown",
   "metadata": {},
   "source": [
    "## 5. Linear Regression\n",
    "\n",
    "---"
   ]
  },
  {
   "cell_type": "markdown",
   "metadata": {},
   "source": [
    "### 🎯 Before You Begin\n",
    "\n",
    "To check your code correctness, we'll use **automark**. Each student has an account with their student number as the username."
   ]
  },
  {
   "cell_type": "code",
   "execution_count": 2,
   "metadata": {},
   "outputs": [
    {
     "ename": "ConnectTimeout",
     "evalue": "HTTPConnectionPool(host='161.35.93.12', port=1234): Max retries exceeded with url: /get_progress/eerdoga1 (Caused by ConnectTimeoutError(<urllib3.connection.HTTPConnection object at 0x1076914f0>, 'Connection to 161.35.93.12 timed out. (connect timeout=None)'))",
     "output_type": "error",
     "traceback": [
      "\u001b[31m---------------------------------------------------------------------------\u001b[39m",
      "\u001b[31mTimeoutError\u001b[39m                              Traceback (most recent call last)",
      "\u001b[36mFile \u001b[39m\u001b[32m~/ENTER/lib/python3.12/site-packages/urllib3/connection.py:198\u001b[39m, in \u001b[36mHTTPConnection._new_conn\u001b[39m\u001b[34m(self)\u001b[39m\n\u001b[32m    197\u001b[39m \u001b[38;5;28;01mtry\u001b[39;00m:\n\u001b[32m--> \u001b[39m\u001b[32m198\u001b[39m     sock = \u001b[43mconnection\u001b[49m\u001b[43m.\u001b[49m\u001b[43mcreate_connection\u001b[49m\u001b[43m(\u001b[49m\n\u001b[32m    199\u001b[39m \u001b[43m        \u001b[49m\u001b[43m(\u001b[49m\u001b[38;5;28;43mself\u001b[39;49m\u001b[43m.\u001b[49m\u001b[43m_dns_host\u001b[49m\u001b[43m,\u001b[49m\u001b[43m \u001b[49m\u001b[38;5;28;43mself\u001b[39;49m\u001b[43m.\u001b[49m\u001b[43mport\u001b[49m\u001b[43m)\u001b[49m\u001b[43m,\u001b[49m\n\u001b[32m    200\u001b[39m \u001b[43m        \u001b[49m\u001b[38;5;28;43mself\u001b[39;49m\u001b[43m.\u001b[49m\u001b[43mtimeout\u001b[49m\u001b[43m,\u001b[49m\n\u001b[32m    201\u001b[39m \u001b[43m        \u001b[49m\u001b[43msource_address\u001b[49m\u001b[43m=\u001b[49m\u001b[38;5;28;43mself\u001b[39;49m\u001b[43m.\u001b[49m\u001b[43msource_address\u001b[49m\u001b[43m,\u001b[49m\n\u001b[32m    202\u001b[39m \u001b[43m        \u001b[49m\u001b[43msocket_options\u001b[49m\u001b[43m=\u001b[49m\u001b[38;5;28;43mself\u001b[39;49m\u001b[43m.\u001b[49m\u001b[43msocket_options\u001b[49m\u001b[43m,\u001b[49m\n\u001b[32m    203\u001b[39m \u001b[43m    \u001b[49m\u001b[43m)\u001b[49m\n\u001b[32m    204\u001b[39m \u001b[38;5;28;01mexcept\u001b[39;00m socket.gaierror \u001b[38;5;28;01mas\u001b[39;00m e:\n",
      "\u001b[36mFile \u001b[39m\u001b[32m~/ENTER/lib/python3.12/site-packages/urllib3/util/connection.py:85\u001b[39m, in \u001b[36mcreate_connection\u001b[39m\u001b[34m(address, timeout, source_address, socket_options)\u001b[39m\n\u001b[32m     84\u001b[39m \u001b[38;5;28;01mtry\u001b[39;00m:\n\u001b[32m---> \u001b[39m\u001b[32m85\u001b[39m     \u001b[38;5;28;01mraise\u001b[39;00m err\n\u001b[32m     86\u001b[39m \u001b[38;5;28;01mfinally\u001b[39;00m:\n\u001b[32m     87\u001b[39m     \u001b[38;5;66;03m# Break explicitly a reference cycle\u001b[39;00m\n",
      "\u001b[36mFile \u001b[39m\u001b[32m~/ENTER/lib/python3.12/site-packages/urllib3/util/connection.py:73\u001b[39m, in \u001b[36mcreate_connection\u001b[39m\u001b[34m(address, timeout, source_address, socket_options)\u001b[39m\n\u001b[32m     72\u001b[39m     sock.bind(source_address)\n\u001b[32m---> \u001b[39m\u001b[32m73\u001b[39m \u001b[43msock\u001b[49m\u001b[43m.\u001b[49m\u001b[43mconnect\u001b[49m\u001b[43m(\u001b[49m\u001b[43msa\u001b[49m\u001b[43m)\u001b[49m\n\u001b[32m     74\u001b[39m \u001b[38;5;66;03m# Break explicitly a reference cycle\u001b[39;00m\n",
      "\u001b[31mTimeoutError\u001b[39m: [Errno 60] Operation timed out",
      "\nThe above exception was the direct cause of the following exception:\n",
      "\u001b[31mConnectTimeoutError\u001b[39m                       Traceback (most recent call last)",
      "\u001b[36mFile \u001b[39m\u001b[32m~/ENTER/lib/python3.12/site-packages/urllib3/connectionpool.py:787\u001b[39m, in \u001b[36mHTTPConnectionPool.urlopen\u001b[39m\u001b[34m(self, method, url, body, headers, retries, redirect, assert_same_host, timeout, pool_timeout, release_conn, chunked, body_pos, preload_content, decode_content, **response_kw)\u001b[39m\n\u001b[32m    786\u001b[39m \u001b[38;5;66;03m# Make the request on the HTTPConnection object\u001b[39;00m\n\u001b[32m--> \u001b[39m\u001b[32m787\u001b[39m response = \u001b[38;5;28;43mself\u001b[39;49m\u001b[43m.\u001b[49m\u001b[43m_make_request\u001b[49m\u001b[43m(\u001b[49m\n\u001b[32m    788\u001b[39m \u001b[43m    \u001b[49m\u001b[43mconn\u001b[49m\u001b[43m,\u001b[49m\n\u001b[32m    789\u001b[39m \u001b[43m    \u001b[49m\u001b[43mmethod\u001b[49m\u001b[43m,\u001b[49m\n\u001b[32m    790\u001b[39m \u001b[43m    \u001b[49m\u001b[43murl\u001b[49m\u001b[43m,\u001b[49m\n\u001b[32m    791\u001b[39m \u001b[43m    \u001b[49m\u001b[43mtimeout\u001b[49m\u001b[43m=\u001b[49m\u001b[43mtimeout_obj\u001b[49m\u001b[43m,\u001b[49m\n\u001b[32m    792\u001b[39m \u001b[43m    \u001b[49m\u001b[43mbody\u001b[49m\u001b[43m=\u001b[49m\u001b[43mbody\u001b[49m\u001b[43m,\u001b[49m\n\u001b[32m    793\u001b[39m \u001b[43m    \u001b[49m\u001b[43mheaders\u001b[49m\u001b[43m=\u001b[49m\u001b[43mheaders\u001b[49m\u001b[43m,\u001b[49m\n\u001b[32m    794\u001b[39m \u001b[43m    \u001b[49m\u001b[43mchunked\u001b[49m\u001b[43m=\u001b[49m\u001b[43mchunked\u001b[49m\u001b[43m,\u001b[49m\n\u001b[32m    795\u001b[39m \u001b[43m    \u001b[49m\u001b[43mretries\u001b[49m\u001b[43m=\u001b[49m\u001b[43mretries\u001b[49m\u001b[43m,\u001b[49m\n\u001b[32m    796\u001b[39m \u001b[43m    \u001b[49m\u001b[43mresponse_conn\u001b[49m\u001b[43m=\u001b[49m\u001b[43mresponse_conn\u001b[49m\u001b[43m,\u001b[49m\n\u001b[32m    797\u001b[39m \u001b[43m    \u001b[49m\u001b[43mpreload_content\u001b[49m\u001b[43m=\u001b[49m\u001b[43mpreload_content\u001b[49m\u001b[43m,\u001b[49m\n\u001b[32m    798\u001b[39m \u001b[43m    \u001b[49m\u001b[43mdecode_content\u001b[49m\u001b[43m=\u001b[49m\u001b[43mdecode_content\u001b[49m\u001b[43m,\u001b[49m\n\u001b[32m    799\u001b[39m \u001b[43m    \u001b[49m\u001b[43m*\u001b[49m\u001b[43m*\u001b[49m\u001b[43mresponse_kw\u001b[49m\u001b[43m,\u001b[49m\n\u001b[32m    800\u001b[39m \u001b[43m\u001b[49m\u001b[43m)\u001b[49m\n\u001b[32m    802\u001b[39m \u001b[38;5;66;03m# Everything went great!\u001b[39;00m\n",
      "\u001b[36mFile \u001b[39m\u001b[32m~/ENTER/lib/python3.12/site-packages/urllib3/connectionpool.py:493\u001b[39m, in \u001b[36mHTTPConnectionPool._make_request\u001b[39m\u001b[34m(self, conn, method, url, body, headers, retries, timeout, chunked, response_conn, preload_content, decode_content, enforce_content_length)\u001b[39m\n\u001b[32m    492\u001b[39m \u001b[38;5;28;01mtry\u001b[39;00m:\n\u001b[32m--> \u001b[39m\u001b[32m493\u001b[39m     \u001b[43mconn\u001b[49m\u001b[43m.\u001b[49m\u001b[43mrequest\u001b[49m\u001b[43m(\u001b[49m\n\u001b[32m    494\u001b[39m \u001b[43m        \u001b[49m\u001b[43mmethod\u001b[49m\u001b[43m,\u001b[49m\n\u001b[32m    495\u001b[39m \u001b[43m        \u001b[49m\u001b[43murl\u001b[49m\u001b[43m,\u001b[49m\n\u001b[32m    496\u001b[39m \u001b[43m        \u001b[49m\u001b[43mbody\u001b[49m\u001b[43m=\u001b[49m\u001b[43mbody\u001b[49m\u001b[43m,\u001b[49m\n\u001b[32m    497\u001b[39m \u001b[43m        \u001b[49m\u001b[43mheaders\u001b[49m\u001b[43m=\u001b[49m\u001b[43mheaders\u001b[49m\u001b[43m,\u001b[49m\n\u001b[32m    498\u001b[39m \u001b[43m        \u001b[49m\u001b[43mchunked\u001b[49m\u001b[43m=\u001b[49m\u001b[43mchunked\u001b[49m\u001b[43m,\u001b[49m\n\u001b[32m    499\u001b[39m \u001b[43m        \u001b[49m\u001b[43mpreload_content\u001b[49m\u001b[43m=\u001b[49m\u001b[43mpreload_content\u001b[49m\u001b[43m,\u001b[49m\n\u001b[32m    500\u001b[39m \u001b[43m        \u001b[49m\u001b[43mdecode_content\u001b[49m\u001b[43m=\u001b[49m\u001b[43mdecode_content\u001b[49m\u001b[43m,\u001b[49m\n\u001b[32m    501\u001b[39m \u001b[43m        \u001b[49m\u001b[43menforce_content_length\u001b[49m\u001b[43m=\u001b[49m\u001b[43menforce_content_length\u001b[49m\u001b[43m,\u001b[49m\n\u001b[32m    502\u001b[39m \u001b[43m    \u001b[49m\u001b[43m)\u001b[49m\n\u001b[32m    504\u001b[39m \u001b[38;5;66;03m# We are swallowing BrokenPipeError (errno.EPIPE) since the server is\u001b[39;00m\n\u001b[32m    505\u001b[39m \u001b[38;5;66;03m# legitimately able to close the connection after sending a valid response.\u001b[39;00m\n\u001b[32m    506\u001b[39m \u001b[38;5;66;03m# With this behaviour, the received response is still readable.\u001b[39;00m\n",
      "\u001b[36mFile \u001b[39m\u001b[32m~/ENTER/lib/python3.12/site-packages/urllib3/connection.py:445\u001b[39m, in \u001b[36mHTTPConnection.request\u001b[39m\u001b[34m(self, method, url, body, headers, chunked, preload_content, decode_content, enforce_content_length)\u001b[39m\n\u001b[32m    444\u001b[39m     \u001b[38;5;28mself\u001b[39m.putheader(header, value)\n\u001b[32m--> \u001b[39m\u001b[32m445\u001b[39m \u001b[38;5;28;43mself\u001b[39;49m\u001b[43m.\u001b[49m\u001b[43mendheaders\u001b[49m\u001b[43m(\u001b[49m\u001b[43m)\u001b[49m\n\u001b[32m    447\u001b[39m \u001b[38;5;66;03m# If we're given a body we start sending that in chunks.\u001b[39;00m\n",
      "\u001b[36mFile \u001b[39m\u001b[32m~/ENTER/lib/python3.12/http/client.py:1333\u001b[39m, in \u001b[36mHTTPConnection.endheaders\u001b[39m\u001b[34m(self, message_body, encode_chunked)\u001b[39m\n\u001b[32m   1332\u001b[39m     \u001b[38;5;28;01mraise\u001b[39;00m CannotSendHeader()\n\u001b[32m-> \u001b[39m\u001b[32m1333\u001b[39m \u001b[38;5;28;43mself\u001b[39;49m\u001b[43m.\u001b[49m\u001b[43m_send_output\u001b[49m\u001b[43m(\u001b[49m\u001b[43mmessage_body\u001b[49m\u001b[43m,\u001b[49m\u001b[43m \u001b[49m\u001b[43mencode_chunked\u001b[49m\u001b[43m=\u001b[49m\u001b[43mencode_chunked\u001b[49m\u001b[43m)\u001b[49m\n",
      "\u001b[36mFile \u001b[39m\u001b[32m~/ENTER/lib/python3.12/http/client.py:1093\u001b[39m, in \u001b[36mHTTPConnection._send_output\u001b[39m\u001b[34m(self, message_body, encode_chunked)\u001b[39m\n\u001b[32m   1092\u001b[39m \u001b[38;5;28;01mdel\u001b[39;00m \u001b[38;5;28mself\u001b[39m._buffer[:]\n\u001b[32m-> \u001b[39m\u001b[32m1093\u001b[39m \u001b[38;5;28;43mself\u001b[39;49m\u001b[43m.\u001b[49m\u001b[43msend\u001b[49m\u001b[43m(\u001b[49m\u001b[43mmsg\u001b[49m\u001b[43m)\u001b[49m\n\u001b[32m   1095\u001b[39m \u001b[38;5;28;01mif\u001b[39;00m message_body \u001b[38;5;129;01mis\u001b[39;00m \u001b[38;5;129;01mnot\u001b[39;00m \u001b[38;5;28;01mNone\u001b[39;00m:\n\u001b[32m   1096\u001b[39m \n\u001b[32m   1097\u001b[39m     \u001b[38;5;66;03m# create a consistent interface to message_body\u001b[39;00m\n",
      "\u001b[36mFile \u001b[39m\u001b[32m~/ENTER/lib/python3.12/http/client.py:1037\u001b[39m, in \u001b[36mHTTPConnection.send\u001b[39m\u001b[34m(self, data)\u001b[39m\n\u001b[32m   1036\u001b[39m \u001b[38;5;28;01mif\u001b[39;00m \u001b[38;5;28mself\u001b[39m.auto_open:\n\u001b[32m-> \u001b[39m\u001b[32m1037\u001b[39m     \u001b[38;5;28;43mself\u001b[39;49m\u001b[43m.\u001b[49m\u001b[43mconnect\u001b[49m\u001b[43m(\u001b[49m\u001b[43m)\u001b[49m\n\u001b[32m   1038\u001b[39m \u001b[38;5;28;01melse\u001b[39;00m:\n",
      "\u001b[36mFile \u001b[39m\u001b[32m~/ENTER/lib/python3.12/site-packages/urllib3/connection.py:276\u001b[39m, in \u001b[36mHTTPConnection.connect\u001b[39m\u001b[34m(self)\u001b[39m\n\u001b[32m    275\u001b[39m \u001b[38;5;28;01mdef\u001b[39;00m\u001b[38;5;250m \u001b[39m\u001b[34mconnect\u001b[39m(\u001b[38;5;28mself\u001b[39m) -> \u001b[38;5;28;01mNone\u001b[39;00m:\n\u001b[32m--> \u001b[39m\u001b[32m276\u001b[39m     \u001b[38;5;28mself\u001b[39m.sock = \u001b[38;5;28;43mself\u001b[39;49m\u001b[43m.\u001b[49m\u001b[43m_new_conn\u001b[49m\u001b[43m(\u001b[49m\u001b[43m)\u001b[49m\n\u001b[32m    277\u001b[39m     \u001b[38;5;28;01mif\u001b[39;00m \u001b[38;5;28mself\u001b[39m._tunnel_host:\n\u001b[32m    278\u001b[39m         \u001b[38;5;66;03m# If we're tunneling it means we're connected to our proxy.\u001b[39;00m\n",
      "\u001b[36mFile \u001b[39m\u001b[32m~/ENTER/lib/python3.12/site-packages/urllib3/connection.py:207\u001b[39m, in \u001b[36mHTTPConnection._new_conn\u001b[39m\u001b[34m(self)\u001b[39m\n\u001b[32m    206\u001b[39m \u001b[38;5;28;01mexcept\u001b[39;00m SocketTimeout \u001b[38;5;28;01mas\u001b[39;00m e:\n\u001b[32m--> \u001b[39m\u001b[32m207\u001b[39m     \u001b[38;5;28;01mraise\u001b[39;00m ConnectTimeoutError(\n\u001b[32m    208\u001b[39m         \u001b[38;5;28mself\u001b[39m,\n\u001b[32m    209\u001b[39m         \u001b[33mf\u001b[39m\u001b[33m\"\u001b[39m\u001b[33mConnection to \u001b[39m\u001b[38;5;132;01m{\u001b[39;00m\u001b[38;5;28mself\u001b[39m.host\u001b[38;5;132;01m}\u001b[39;00m\u001b[33m timed out. (connect timeout=\u001b[39m\u001b[38;5;132;01m{\u001b[39;00m\u001b[38;5;28mself\u001b[39m.timeout\u001b[38;5;132;01m}\u001b[39;00m\u001b[33m)\u001b[39m\u001b[33m\"\u001b[39m,\n\u001b[32m    210\u001b[39m     ) \u001b[38;5;28;01mfrom\u001b[39;00m\u001b[38;5;250m \u001b[39m\u001b[34;01me\u001b[39;00m\n\u001b[32m    212\u001b[39m \u001b[38;5;28;01mexcept\u001b[39;00m \u001b[38;5;167;01mOSError\u001b[39;00m \u001b[38;5;28;01mas\u001b[39;00m e:\n",
      "\u001b[31mConnectTimeoutError\u001b[39m: (<urllib3.connection.HTTPConnection object at 0x1076914f0>, 'Connection to 161.35.93.12 timed out. (connect timeout=None)')",
      "\nThe above exception was the direct cause of the following exception:\n",
      "\u001b[31mMaxRetryError\u001b[39m                             Traceback (most recent call last)",
      "\u001b[36mFile \u001b[39m\u001b[32m~/ENTER/lib/python3.12/site-packages/requests/adapters.py:667\u001b[39m, in \u001b[36mHTTPAdapter.send\u001b[39m\u001b[34m(self, request, stream, timeout, verify, cert, proxies)\u001b[39m\n\u001b[32m    666\u001b[39m \u001b[38;5;28;01mtry\u001b[39;00m:\n\u001b[32m--> \u001b[39m\u001b[32m667\u001b[39m     resp = \u001b[43mconn\u001b[49m\u001b[43m.\u001b[49m\u001b[43murlopen\u001b[49m\u001b[43m(\u001b[49m\n\u001b[32m    668\u001b[39m \u001b[43m        \u001b[49m\u001b[43mmethod\u001b[49m\u001b[43m=\u001b[49m\u001b[43mrequest\u001b[49m\u001b[43m.\u001b[49m\u001b[43mmethod\u001b[49m\u001b[43m,\u001b[49m\n\u001b[32m    669\u001b[39m \u001b[43m        \u001b[49m\u001b[43murl\u001b[49m\u001b[43m=\u001b[49m\u001b[43murl\u001b[49m\u001b[43m,\u001b[49m\n\u001b[32m    670\u001b[39m \u001b[43m        \u001b[49m\u001b[43mbody\u001b[49m\u001b[43m=\u001b[49m\u001b[43mrequest\u001b[49m\u001b[43m.\u001b[49m\u001b[43mbody\u001b[49m\u001b[43m,\u001b[49m\n\u001b[32m    671\u001b[39m \u001b[43m        \u001b[49m\u001b[43mheaders\u001b[49m\u001b[43m=\u001b[49m\u001b[43mrequest\u001b[49m\u001b[43m.\u001b[49m\u001b[43mheaders\u001b[49m\u001b[43m,\u001b[49m\n\u001b[32m    672\u001b[39m \u001b[43m        \u001b[49m\u001b[43mredirect\u001b[49m\u001b[43m=\u001b[49m\u001b[38;5;28;43;01mFalse\u001b[39;49;00m\u001b[43m,\u001b[49m\n\u001b[32m    673\u001b[39m \u001b[43m        \u001b[49m\u001b[43massert_same_host\u001b[49m\u001b[43m=\u001b[49m\u001b[38;5;28;43;01mFalse\u001b[39;49;00m\u001b[43m,\u001b[49m\n\u001b[32m    674\u001b[39m \u001b[43m        \u001b[49m\u001b[43mpreload_content\u001b[49m\u001b[43m=\u001b[49m\u001b[38;5;28;43;01mFalse\u001b[39;49;00m\u001b[43m,\u001b[49m\n\u001b[32m    675\u001b[39m \u001b[43m        \u001b[49m\u001b[43mdecode_content\u001b[49m\u001b[43m=\u001b[49m\u001b[38;5;28;43;01mFalse\u001b[39;49;00m\u001b[43m,\u001b[49m\n\u001b[32m    676\u001b[39m \u001b[43m        \u001b[49m\u001b[43mretries\u001b[49m\u001b[43m=\u001b[49m\u001b[38;5;28;43mself\u001b[39;49m\u001b[43m.\u001b[49m\u001b[43mmax_retries\u001b[49m\u001b[43m,\u001b[49m\n\u001b[32m    677\u001b[39m \u001b[43m        \u001b[49m\u001b[43mtimeout\u001b[49m\u001b[43m=\u001b[49m\u001b[43mtimeout\u001b[49m\u001b[43m,\u001b[49m\n\u001b[32m    678\u001b[39m \u001b[43m        \u001b[49m\u001b[43mchunked\u001b[49m\u001b[43m=\u001b[49m\u001b[43mchunked\u001b[49m\u001b[43m,\u001b[49m\n\u001b[32m    679\u001b[39m \u001b[43m    \u001b[49m\u001b[43m)\u001b[49m\n\u001b[32m    681\u001b[39m \u001b[38;5;28;01mexcept\u001b[39;00m (ProtocolError, \u001b[38;5;167;01mOSError\u001b[39;00m) \u001b[38;5;28;01mas\u001b[39;00m err:\n",
      "\u001b[36mFile \u001b[39m\u001b[32m~/ENTER/lib/python3.12/site-packages/urllib3/connectionpool.py:841\u001b[39m, in \u001b[36mHTTPConnectionPool.urlopen\u001b[39m\u001b[34m(self, method, url, body, headers, retries, redirect, assert_same_host, timeout, pool_timeout, release_conn, chunked, body_pos, preload_content, decode_content, **response_kw)\u001b[39m\n\u001b[32m    839\u001b[39m     new_e = ProtocolError(\u001b[33m\"\u001b[39m\u001b[33mConnection aborted.\u001b[39m\u001b[33m\"\u001b[39m, new_e)\n\u001b[32m--> \u001b[39m\u001b[32m841\u001b[39m retries = \u001b[43mretries\u001b[49m\u001b[43m.\u001b[49m\u001b[43mincrement\u001b[49m\u001b[43m(\u001b[49m\n\u001b[32m    842\u001b[39m \u001b[43m    \u001b[49m\u001b[43mmethod\u001b[49m\u001b[43m,\u001b[49m\u001b[43m \u001b[49m\u001b[43murl\u001b[49m\u001b[43m,\u001b[49m\u001b[43m \u001b[49m\u001b[43merror\u001b[49m\u001b[43m=\u001b[49m\u001b[43mnew_e\u001b[49m\u001b[43m,\u001b[49m\u001b[43m \u001b[49m\u001b[43m_pool\u001b[49m\u001b[43m=\u001b[49m\u001b[38;5;28;43mself\u001b[39;49m\u001b[43m,\u001b[49m\u001b[43m \u001b[49m\u001b[43m_stacktrace\u001b[49m\u001b[43m=\u001b[49m\u001b[43msys\u001b[49m\u001b[43m.\u001b[49m\u001b[43mexc_info\u001b[49m\u001b[43m(\u001b[49m\u001b[43m)\u001b[49m\u001b[43m[\u001b[49m\u001b[32;43m2\u001b[39;49m\u001b[43m]\u001b[49m\n\u001b[32m    843\u001b[39m \u001b[43m\u001b[49m\u001b[43m)\u001b[49m\n\u001b[32m    844\u001b[39m retries.sleep()\n",
      "\u001b[36mFile \u001b[39m\u001b[32m~/ENTER/lib/python3.12/site-packages/urllib3/util/retry.py:519\u001b[39m, in \u001b[36mRetry.increment\u001b[39m\u001b[34m(self, method, url, response, error, _pool, _stacktrace)\u001b[39m\n\u001b[32m    518\u001b[39m     reason = error \u001b[38;5;129;01mor\u001b[39;00m ResponseError(cause)\n\u001b[32m--> \u001b[39m\u001b[32m519\u001b[39m     \u001b[38;5;28;01mraise\u001b[39;00m MaxRetryError(_pool, url, reason) \u001b[38;5;28;01mfrom\u001b[39;00m\u001b[38;5;250m \u001b[39m\u001b[34;01mreason\u001b[39;00m  \u001b[38;5;66;03m# type: ignore[arg-type]\u001b[39;00m\n\u001b[32m    521\u001b[39m log.debug(\u001b[33m\"\u001b[39m\u001b[33mIncremented Retry for (url=\u001b[39m\u001b[33m'\u001b[39m\u001b[38;5;132;01m%s\u001b[39;00m\u001b[33m'\u001b[39m\u001b[33m): \u001b[39m\u001b[38;5;132;01m%r\u001b[39;00m\u001b[33m\"\u001b[39m, url, new_retry)\n",
      "\u001b[31mMaxRetryError\u001b[39m: HTTPConnectionPool(host='161.35.93.12', port=1234): Max retries exceeded with url: /get_progress/eerdoga1 (Caused by ConnectTimeoutError(<urllib3.connection.HTTPConnection object at 0x1076914f0>, 'Connection to 161.35.93.12 timed out. (connect timeout=None)'))",
      "\nDuring handling of the above exception, another exception occurred:\n",
      "\u001b[31mConnectTimeout\u001b[39m                            Traceback (most recent call last)",
      "\u001b[36mCell\u001b[39m\u001b[36m \u001b[39m\u001b[32mIn[2]\u001b[39m\u001b[32m, line 7\u001b[39m\n\u001b[32m      4\u001b[39m username = \u001b[33m\"\u001b[39m\u001b[33meerdoga1\u001b[39m\u001b[33m\"\u001b[39m\n\u001b[32m      6\u001b[39m \u001b[38;5;66;03m# to check your progress, you can run this function\u001b[39;00m\n\u001b[32m----> \u001b[39m\u001b[32m7\u001b[39m \u001b[43mam\u001b[49m\u001b[43m.\u001b[49m\u001b[43mget_progress\u001b[49m\u001b[43m(\u001b[49m\u001b[43musername\u001b[49m\u001b[43m)\u001b[49m\n",
      "\u001b[36mFile \u001b[39m\u001b[32m~/Desktop/UVA_AML24/week_1/automark.py:32\u001b[39m, in \u001b[36mget_progress\u001b[39m\u001b[34m(username)\u001b[39m\n\u001b[32m     30\u001b[39m \u001b[38;5;28;01mdef\u001b[39;00m\u001b[38;5;250m \u001b[39m\u001b[34mget_progress\u001b[39m(username):\n\u001b[32m     31\u001b[39m     endpoint = \u001b[33mf\u001b[39m\u001b[33m\"\u001b[39m\u001b[38;5;132;01m{\u001b[39;00mConfig.host\u001b[38;5;132;01m}\u001b[39;00m\u001b[33m/get_progress/\u001b[39m\u001b[38;5;132;01m{\u001b[39;00musername\u001b[38;5;132;01m}\u001b[39;00m\u001b[33m\"\u001b[39m\n\u001b[32m---> \u001b[39m\u001b[32m32\u001b[39m     response = \u001b[43mrequests\u001b[49m\u001b[43m.\u001b[49m\u001b[43mget\u001b[49m\u001b[43m(\u001b[49m\u001b[43mendpoint\u001b[49m\u001b[43m)\u001b[49m\n\u001b[32m     33\u001b[39m     data = response.json()\n\u001b[32m     35\u001b[39m     \u001b[38;5;28;01mif\u001b[39;00m \u001b[33m\"\u001b[39m\u001b[33merror\u001b[39m\u001b[33m\"\u001b[39m \u001b[38;5;129;01min\u001b[39;00m data:\n",
      "\u001b[36mFile \u001b[39m\u001b[32m~/ENTER/lib/python3.12/site-packages/requests/api.py:73\u001b[39m, in \u001b[36mget\u001b[39m\u001b[34m(url, params, **kwargs)\u001b[39m\n\u001b[32m     62\u001b[39m \u001b[38;5;28;01mdef\u001b[39;00m\u001b[38;5;250m \u001b[39m\u001b[34mget\u001b[39m(url, params=\u001b[38;5;28;01mNone\u001b[39;00m, **kwargs):\n\u001b[32m     63\u001b[39m \u001b[38;5;250m    \u001b[39m\u001b[33mr\u001b[39m\u001b[33;03m\"\"\"Sends a GET request.\u001b[39;00m\n\u001b[32m     64\u001b[39m \n\u001b[32m     65\u001b[39m \u001b[33;03m    :param url: URL for the new :class:`Request` object.\u001b[39;00m\n\u001b[32m   (...)\u001b[39m\u001b[32m     70\u001b[39m \u001b[33;03m    :rtype: requests.Response\u001b[39;00m\n\u001b[32m     71\u001b[39m \u001b[33;03m    \"\"\"\u001b[39;00m\n\u001b[32m---> \u001b[39m\u001b[32m73\u001b[39m     \u001b[38;5;28;01mreturn\u001b[39;00m \u001b[43mrequest\u001b[49m\u001b[43m(\u001b[49m\u001b[33;43m\"\u001b[39;49m\u001b[33;43mget\u001b[39;49m\u001b[33;43m\"\u001b[39;49m\u001b[43m,\u001b[49m\u001b[43m \u001b[49m\u001b[43murl\u001b[49m\u001b[43m,\u001b[49m\u001b[43m \u001b[49m\u001b[43mparams\u001b[49m\u001b[43m=\u001b[49m\u001b[43mparams\u001b[49m\u001b[43m,\u001b[49m\u001b[43m \u001b[49m\u001b[43m*\u001b[49m\u001b[43m*\u001b[49m\u001b[43mkwargs\u001b[49m\u001b[43m)\u001b[49m\n",
      "\u001b[36mFile \u001b[39m\u001b[32m~/ENTER/lib/python3.12/site-packages/requests/api.py:59\u001b[39m, in \u001b[36mrequest\u001b[39m\u001b[34m(method, url, **kwargs)\u001b[39m\n\u001b[32m     55\u001b[39m \u001b[38;5;66;03m# By using the 'with' statement we are sure the session is closed, thus we\u001b[39;00m\n\u001b[32m     56\u001b[39m \u001b[38;5;66;03m# avoid leaving sockets open which can trigger a ResourceWarning in some\u001b[39;00m\n\u001b[32m     57\u001b[39m \u001b[38;5;66;03m# cases, and look like a memory leak in others.\u001b[39;00m\n\u001b[32m     58\u001b[39m \u001b[38;5;28;01mwith\u001b[39;00m sessions.Session() \u001b[38;5;28;01mas\u001b[39;00m session:\n\u001b[32m---> \u001b[39m\u001b[32m59\u001b[39m     \u001b[38;5;28;01mreturn\u001b[39;00m \u001b[43msession\u001b[49m\u001b[43m.\u001b[49m\u001b[43mrequest\u001b[49m\u001b[43m(\u001b[49m\u001b[43mmethod\u001b[49m\u001b[43m=\u001b[49m\u001b[43mmethod\u001b[49m\u001b[43m,\u001b[49m\u001b[43m \u001b[49m\u001b[43murl\u001b[49m\u001b[43m=\u001b[49m\u001b[43murl\u001b[49m\u001b[43m,\u001b[49m\u001b[43m \u001b[49m\u001b[43m*\u001b[49m\u001b[43m*\u001b[49m\u001b[43mkwargs\u001b[49m\u001b[43m)\u001b[49m\n",
      "\u001b[36mFile \u001b[39m\u001b[32m~/ENTER/lib/python3.12/site-packages/requests/sessions.py:589\u001b[39m, in \u001b[36mSession.request\u001b[39m\u001b[34m(self, method, url, params, data, headers, cookies, files, auth, timeout, allow_redirects, proxies, hooks, stream, verify, cert, json)\u001b[39m\n\u001b[32m    584\u001b[39m send_kwargs = {\n\u001b[32m    585\u001b[39m     \u001b[33m\"\u001b[39m\u001b[33mtimeout\u001b[39m\u001b[33m\"\u001b[39m: timeout,\n\u001b[32m    586\u001b[39m     \u001b[33m\"\u001b[39m\u001b[33mallow_redirects\u001b[39m\u001b[33m\"\u001b[39m: allow_redirects,\n\u001b[32m    587\u001b[39m }\n\u001b[32m    588\u001b[39m send_kwargs.update(settings)\n\u001b[32m--> \u001b[39m\u001b[32m589\u001b[39m resp = \u001b[38;5;28;43mself\u001b[39;49m\u001b[43m.\u001b[49m\u001b[43msend\u001b[49m\u001b[43m(\u001b[49m\u001b[43mprep\u001b[49m\u001b[43m,\u001b[49m\u001b[43m \u001b[49m\u001b[43m*\u001b[49m\u001b[43m*\u001b[49m\u001b[43msend_kwargs\u001b[49m\u001b[43m)\u001b[49m\n\u001b[32m    591\u001b[39m \u001b[38;5;28;01mreturn\u001b[39;00m resp\n",
      "\u001b[36mFile \u001b[39m\u001b[32m~/ENTER/lib/python3.12/site-packages/requests/sessions.py:703\u001b[39m, in \u001b[36mSession.send\u001b[39m\u001b[34m(self, request, **kwargs)\u001b[39m\n\u001b[32m    700\u001b[39m start = preferred_clock()\n\u001b[32m    702\u001b[39m \u001b[38;5;66;03m# Send the request\u001b[39;00m\n\u001b[32m--> \u001b[39m\u001b[32m703\u001b[39m r = \u001b[43madapter\u001b[49m\u001b[43m.\u001b[49m\u001b[43msend\u001b[49m\u001b[43m(\u001b[49m\u001b[43mrequest\u001b[49m\u001b[43m,\u001b[49m\u001b[43m \u001b[49m\u001b[43m*\u001b[49m\u001b[43m*\u001b[49m\u001b[43mkwargs\u001b[49m\u001b[43m)\u001b[49m\n\u001b[32m    705\u001b[39m \u001b[38;5;66;03m# Total elapsed time of the request (approximately)\u001b[39;00m\n\u001b[32m    706\u001b[39m elapsed = preferred_clock() - start\n",
      "\u001b[36mFile \u001b[39m\u001b[32m~/ENTER/lib/python3.12/site-packages/requests/adapters.py:688\u001b[39m, in \u001b[36mHTTPAdapter.send\u001b[39m\u001b[34m(self, request, stream, timeout, verify, cert, proxies)\u001b[39m\n\u001b[32m    685\u001b[39m \u001b[38;5;28;01mif\u001b[39;00m \u001b[38;5;28misinstance\u001b[39m(e.reason, ConnectTimeoutError):\n\u001b[32m    686\u001b[39m     \u001b[38;5;66;03m# TODO: Remove this in 3.0.0: see #2811\u001b[39;00m\n\u001b[32m    687\u001b[39m     \u001b[38;5;28;01mif\u001b[39;00m \u001b[38;5;129;01mnot\u001b[39;00m \u001b[38;5;28misinstance\u001b[39m(e.reason, NewConnectionError):\n\u001b[32m--> \u001b[39m\u001b[32m688\u001b[39m         \u001b[38;5;28;01mraise\u001b[39;00m ConnectTimeout(e, request=request)\n\u001b[32m    690\u001b[39m \u001b[38;5;28;01mif\u001b[39;00m \u001b[38;5;28misinstance\u001b[39m(e.reason, ResponseError):\n\u001b[32m    691\u001b[39m     \u001b[38;5;28;01mraise\u001b[39;00m RetryError(e, request=request)\n",
      "\u001b[31mConnectTimeout\u001b[39m: HTTPConnectionPool(host='161.35.93.12', port=1234): Max retries exceeded with url: /get_progress/eerdoga1 (Caused by ConnectTimeoutError(<urllib3.connection.HTTPConnection object at 0x1076914f0>, 'Connection to 161.35.93.12 timed out. (connect timeout=None)'))"
     ]
    }
   ],
   "source": [
    "import automark as am\n",
    "\n",
    "# fill in you student number as your username\n",
    "username = \"eerdoga1\"\n",
    "\n",
    "# to check your progress, you can run this function\n",
    "am.get_progress(username)"
   ]
  },
  {
   "cell_type": "markdown",
   "metadata": {},
   "source": [
    "### 🏠 Problem: House Price Prediction\n",
    "\n",
    "**Scenario:**\n",
    "We want to predict house prices based on two features:\n",
    "- **x₁**: Family income\n",
    "- **x₂**: Number of family members\n",
    "\n",
    "**Assumption:** Linear relationship between features and price."
   ]
  },
  {
   "cell_type": "markdown",
   "metadata": {},
   "source": [
    "### 📐 Linear Regression Model\n",
    "\n",
    "**Model equation:**\n",
    "\n",
    "Linear regression has two key parameters:\n",
    "- Weight vector **W**\n",
    "- Bias term **b**\n",
    "\n",
    "Given feature vector **X**, the prediction is:\n",
    "\n",
    "$$\n",
    "y = WX + b\n",
    "$$"
   ]
  },
  {
   "cell_type": "markdown",
   "metadata": {},
   "source": [
    "### 🧮 Matrix Notation\n",
    "\n",
    "We can rewrite the model using matrix notation:\n",
    "\n",
    "$$\n",
    "y = [X, 1][W, b]^T = \\hat{X}P\n",
    "$$\n",
    "\n",
    "where:\n",
    "- $\\hat{X} = [X, 1]$ (feature matrix with added column of ones)\n",
    "- $P = [W, b]^T$ (parameter vector)\n",
    "\n",
    "**For simplicity:** We denote $\\color{red}{\\hat{X}}$ as $\\color{red}{X}$ from now on.\n",
    "\n",
    "The **pseudoinverse solution** is:\n",
    "\n",
    "$$\n",
    "X^Ty = X^TXP \\\\\n",
    "P = (X^TX)^{-1}X^Ty\n",
    "$$"
   ]
  },
  {
   "cell_type": "markdown",
   "metadata": {},
   "source": [
    "### 💡 Understanding the Pseudoinverse\n",
    "\n",
    "The pseudoinverse $(X^TX)^{-1}X^T$ is analogous to the regular matrix inverse:\n",
    "\n",
    "**Regular inverse:** If $y = XP$, then $P = X^{-1}y$\n",
    "\n",
    "**Problem:** $X^{-1}$ usually doesn't exist (X is typically a tall rectangular matrix, not square).\n",
    "\n",
    "**Solution:** Use the pseudoinverse instead:\n",
    "\n",
    "$$\n",
    "P = (X^TX)^{-1}X^Ty\n",
    "$$\n",
    "\n",
    "This gives the **best approximation** to the solution."
   ]
  },
  {
   "cell_type": "markdown",
   "metadata": {},
   "source": [
    "### 🔄 Algorithm Steps\n",
    "\n",
    "**Linear Regression via Pseudoinverse:**\n",
    "\n",
    "1. **Linear mapping:** $y = WX + b$\n",
    "2. **Calculate pseudoinverse:** $(X^TX)^{-1}X^T$\n",
    "3. **Calculate parameters:** $P = (X^TX)^{-1}X^Ty$ (where $P = [W, b]$)"
   ]
  },
  {
   "cell_type": "markdown",
   "metadata": {},
   "source": [
    "### ✏️ Exercise 5.1: Linear Mapping\n",
    "\n",
    "Implement the linear mapping: $y = XP$\n",
    "\n",
    "**Steps:**\n",
    "1. Add a column of ones to feature matrix $X$\n",
    "2. Represent model parameters as $P = [W, b]$\n",
    "3. Compute the product $XP$"
   ]
  },
  {
   "cell_type": "markdown",
   "metadata": {},
   "source": [
    "**Note:** \n",
    "- `n_out` is the dimensionality of the output (for linear regression, `n_out = 1`)\n",
    "- Use **NumPy** operations whenever possible for efficiency and generality"
   ]
  },
  {
   "cell_type": "code",
   "execution_count": null,
   "metadata": {},
   "outputs": [],
   "source": [
    "def w1_linear_forward(x_input, P):\n",
    "    \"\"\"Perform the Linear mapping of the input\n",
    "    # Arguments\n",
    "        x_input: input of the linear function - np.array of size `(n_objects, n_in)`\n",
    "        P: np.array of size `(n_in, n_out)`\n",
    "    # Output\n",
    "        the output of the linear function\n",
    "        np.array of size `(n_objects, n_out)`\n",
    "    \"\"\"\n",
    "    #################\n",
    "    ### YOUR CODE ###\n",
    "    #################\n",
    "    return output"
   ]
  },
  {
   "cell_type": "markdown",
   "metadata": {},
   "source": [
    "### 🧪 Test Case\n",
    "\n",
    "Let's verify with matrices $X$, $W$, and $b$:\n",
    "\n",
    "$$\n",
    "X = \\begin{bmatrix}\n",
    "1 & -1 \\\\\n",
    "-1 & 0 \\\\\n",
    "1 & 1 \\\\\n",
    "\\end{bmatrix} \\quad\n",
    "W = \\begin{bmatrix}\n",
    "4 \\\\\n",
    "2 \\\\\n",
    "\\end{bmatrix} \\quad\n",
    "b = \\begin{bmatrix}\n",
    "3 \\\\\n",
    "\\end{bmatrix}\n",
    "$$\n",
    "\n",
    "After adding ones column and combining parameters:\n",
    "\n",
    "$$\n",
    "X = \\begin{bmatrix}\n",
    "1 & -1 & 1\\\\\n",
    "-1 & 0 & 1\\\\\n",
    "1 & 1 & 1 \\\\\n",
    "\\end{bmatrix} \\quad\n",
    "P = \\begin{bmatrix}\n",
    "4 \\\\\n",
    "2 \\\\\n",
    "3 \\\\\n",
    "\\end{bmatrix}\n",
    "$$\n",
    "\n",
    "**Expected output:**\n",
    "\n",
    "$$\n",
    "XP = \\begin{bmatrix}\n",
    "1 & -1 & 1\\\\\n",
    "-1 & 0 & 1\\\\\n",
    "1 & 1 & 1\\\\\n",
    "\\end{bmatrix}\n",
    "\\begin{bmatrix}\n",
    "4 \\\\\n",
    "2 \\\\\n",
    "3 \\\\\n",
    "\\end{bmatrix} \n",
    "=\n",
    "\\begin{bmatrix}\n",
    "5 \\\\\n",
    "-1 \\\\\n",
    "9 \\\\\n",
    "\\end{bmatrix} \n",
    "$$"
   ]
  },
  {
   "cell_type": "markdown",
   "metadata": {},
   "source": [
    "### 📖 What is Linear Regression?\n",
    "\n",
    "**Linear Regression** is a fundamental supervised learning algorithm for predicting continuous variables. It assumes a linear relationship between input features and output values.\n",
    "\n",
    "While it can be extended to nonlinear cases, we focus on the simplest linear case here."
   ]
  },
  {
   "cell_type": "code",
   "execution_count": null,
   "metadata": {},
   "outputs": [],
   "source": [
    "import numpy as np\n",
    "\n",
    "X_test = np.array([[1, -1, 1], [-1, 0, 1], [1, 1, 1]])\n",
    "\n",
    "P_test = np.array([[4], [2], [3]])\n",
    "\n",
    "\n",
    "h_test = w1_linear_forward(X_test, P_test)\n",
    "print(h_test)"
   ]
  },
  {
   "cell_type": "code",
   "execution_count": null,
   "metadata": {},
   "outputs": [],
   "source": [
    "am.test_student_function(username, w1_linear_forward, [\"x_input\", \"P\"])"
   ]
  },
  {
   "cell_type": "markdown",
   "metadata": {},
   "source": [
    "### ✏️ Exercise 5.2: Pseudoinverse\n",
    "\n",
    "Calculate model parameters using the pseudoinverse method.\n",
    "\n",
    "**Steps:**\n",
    "1. Calculate pseudoinverse: $(X^TX)^{-1}X^T$\n",
    "2. Compute parameters: $P = (X^TX)^{-1}X^Ty$"
   ]
  },
  {
   "cell_type": "code",
   "execution_count": null,
   "metadata": {},
   "outputs": [],
   "source": [
    "def w1_cal_pseudoinverse(x_input, y_input):\n",
    "    \"\"\"Calculate model parameter P by pseduoinverse\n",
    "    # Arguments\n",
    "        x_input: feature vector - np.array of size `(n_objects, n_in)`\n",
    "        y_input: np.array of size `(n_object, n_out)`\n",
    "    # Output\n",
    "        the output of the linear function\n",
    "        np.array of size `(n_in, n_out)`\n",
    "    # Note here n_out is 1\n",
    "    \"\"\"\n",
    "    #################\n",
    "    ### YOUR CODE ###\n",
    "    #################\n",
    "\n",
    "    return output"
   ]
  },
  {
   "cell_type": "markdown",
   "metadata": {},
   "source": [
    "### 🧪 Test Case\n",
    "\n",
    "Given feature matrix and labels:\n",
    "\n",
    "$$\n",
    "X = \\begin{bmatrix}\n",
    "1 & -1 \\\\\n",
    "-1 & 0 \\\\\n",
    "1 & 1 \\\\\n",
    "\\end{bmatrix}\\quad\n",
    "y = \\begin{bmatrix}\n",
    "5 \\\\\n",
    "-1 \\\\\n",
    "9 \\\\\n",
    "\\end{bmatrix}\n",
    "$$\n",
    "\n",
    "After adding column of ones:\n",
    "\n",
    "$$\n",
    "X = \\begin{bmatrix}\n",
    "1 & -1 & 1\\\\\n",
    "-1 & 0 & 1\\\\\n",
    "1 & 1 & 1 \\\\\n",
    "\\end{bmatrix}\n",
    "$$\n",
    "\n",
    "Calculate pseudoinverse:\n",
    "\n",
    "$$\n",
    "(X^TX)^{-1}X^T = \\begin{bmatrix}\n",
    "-0.25 & -0.5 & 0.25\\\\\n",
    "-0.5 & 0.0 & 0.5\\\\\n",
    "0.25 & 0.5 & 0.25 \\\\\n",
    "\\end{bmatrix}\n",
    "$$\n",
    "\n",
    "**Expected output:**\n",
    "\n",
    "$$\n",
    "P = (X^TX)^{-1}X^Ty = \\begin{bmatrix}\n",
    "4 \\\\ 2 \\\\ 3\n",
    "\\end{bmatrix}\n",
    "$$"
   ]
  },
  {
   "cell_type": "code",
   "execution_count": null,
   "metadata": {},
   "outputs": [],
   "source": [
    "import numpy as np\n",
    "\n",
    "X_test = np.array([[1, -1, 1], [-1, 0, 1], [1, 1, 1]])\n",
    "\n",
    "\n",
    "Y_test = np.array([5, -1, 9])\n",
    "\n",
    "p_test = w1_cal_pseudoinverse(X_test, Y_test)\n",
    "\n",
    "print(p_test)"
   ]
  },
  {
   "cell_type": "code",
   "execution_count": null,
   "metadata": {},
   "outputs": [],
   "source": [
    "am.test_student_function(username, w1_cal_pseudoinverse, [\"x_input\", \"y_input\"])"
   ]
  },
  {
   "cell_type": "markdown",
   "metadata": {},
   "source": [
    "### 🔧 Exercise 5.3: Complete Model\n",
    "\n",
    "Below is a complete LinearRegression model that uses the functions you implemented above."
   ]
  },
  {
   "cell_type": "code",
   "execution_count": null,
   "metadata": {},
   "outputs": [],
   "source": [
    "class LinearRegressionPI(object):\n",
    "\n",
    "    def __init__(self, n_in):\n",
    "        super().__init__()\n",
    "        self.P = None\n",
    "\n",
    "    def forward(self, x):\n",
    "        y = w1_linear_forward(x, self.P)\n",
    "        return y\n",
    "\n",
    "    def solver(self, x, y):\n",
    "        # compute gradients\n",
    "        psudeo_inverse = w1_w1_cal_pseudoinverse(x)\n",
    "        self.P = w1_cal_parameter(inverse, y)"
   ]
  },
  {
   "cell_type": "markdown",
   "metadata": {},
   "source": [
    "## 6. Regularization\n",
    "\n",
    "---"
   ]
  },
  {
   "cell_type": "markdown",
   "metadata": {},
   "source": [
    "### 🛡️ What is Regularization?\n",
    "\n",
    "**Regularization** prevents overfitting and helps models generalize better to new data.\n",
    "\n",
    "We'll focus on **L2 Regularization** (Ridge Regression), which adds a penalty proportional to the square of the coefficient magnitudes.\n",
    "\n",
    "---\n",
    "\n",
    "### 📐 L2 Regularization Math\n",
    "\n",
    "**Loss function with L2 penalty:**\n",
    "\n",
    "$$\n",
    "L(P) = ||y - XP||^2 + \\lambda||P||_2^2\n",
    "$$\n",
    "\n",
    "where:\n",
    "- $||P||_2^2$ is the L2 penalty term (sum of squared coefficients)\n",
    "- $\\lambda$ is the regularization factor (typically small)\n",
    "\n",
    "**Gradient:**\n",
    "\n",
    "$$\n",
    "\\nabla{L}_P = -2X^T(y - XP) + 2\\lambda P\n",
    "$$\n",
    "\n",
    "**Setting gradient to zero and solving:**\n",
    "\n",
    "$$\n",
    "\\begin{align}\n",
    "0 &= -2X^T(y - XP) + 2\\lambda P \\\\\n",
    "0 &= X^T(y - XP) - \\lambda P \\\\\n",
    "0 &= X^Ty - X^TXP - \\lambda P \\\\\n",
    "0 &= X^Ty - (X^TX + \\lambda I_d)P\n",
    "\\end{align}\n",
    "$$\n",
    "\n",
    "**Closed-form solution:**\n",
    "\n",
    "$$\n",
    "(X^TX + \\lambda I_d)P = X^Ty \\\\\n",
    "P = (X^TX + \\lambda I_d)^{-1}X^Ty\n",
    "$$\n",
    "\n",
    "where $I_d$ is the identity matrix."
   ]
  },
  {
   "cell_type": "markdown",
   "metadata": {},
   "source": [
    "### ✏️ Exercise 6.1: L2 Regression\n",
    "\n",
    "Implement linear regression with L2 regularization using the closed-form solution above."
   ]
  },
  {
   "cell_type": "code",
   "execution_count": null,
   "metadata": {},
   "outputs": [],
   "source": [
    "def w1_L2_regression(x_input, y_input, factor=0.001):\n",
    "    \"\"\"Calculate model parameters P with L2 regularzation\n",
    "    # Arguments\n",
    "        x_input: feature vector - np.array of size `(n_objects, n_in)`\n",
    "        y_input: np.array of size `(n_object, n_out)`\n",
    "    # Output\n",
    "        the output of the linear function\n",
    "        np.array of size `(n_in, n_out)`\n",
    "    # Note here n_out is 1\n",
    "    \"\"\"\n",
    "    #################\n",
    "    ### YOUR CODE ###\n",
    "    #################\n",
    "\n",
    "    return output"
   ]
  },
  {
   "cell_type": "markdown",
   "metadata": {},
   "source": [
    "### 🧪 Test Case\n",
    "\n",
    "Given the same feature matrix and labels:\n",
    "\n",
    "$$\n",
    "X = \\begin{bmatrix}\n",
    "1 & -1 \\\\\n",
    "-1 & 0 \\\\\n",
    "1 & 1 \\\\\n",
    "\\end{bmatrix} \n",
    "\\quad\n",
    "Y = \\begin{bmatrix}\n",
    "5 \\\\\n",
    "-1 \\\\\n",
    "9\n",
    "\\end{bmatrix} \n",
    "$$\n",
    "\n",
    "With regularization factor $\\lambda = 0.001$, the parameters will be slightly different from the non-regularized version."
   ]
  },
  {
   "cell_type": "code",
   "execution_count": null,
   "metadata": {},
   "outputs": [],
   "source": [
    "import numpy as np\n",
    "\n",
    "X_test = np.array([[1, -1, 1], [-1, 0, 1], [1, 1, 1]])\n",
    "Y_test = np.array([5, -1, 9])\n",
    "\n",
    "p_l2 = w1_L2_regression(X_test, Y_test)\n",
    "print(p_l2)"
   ]
  },
  {
   "cell_type": "code",
   "execution_count": null,
   "metadata": {},
   "outputs": [],
   "source": [
    "am.test_student_function(username, w1_L2_regression, [\"x_input\", \"y_input\"])"
   ]
  },
  {
   "cell_type": "code",
   "execution_count": null,
   "metadata": {},
   "outputs": [],
   "source": [
    "am.get_progress(username)"
   ]
  }
 ],
 "metadata": {
  "file_extension": ".py",
  "kernelspec": {
   "display_name": "base",
   "language": "python",
   "name": "python3"
  },
  "language_info": {
   "codemirror_mode": {
    "name": "ipython",
    "version": 3
   },
   "file_extension": ".py",
   "mimetype": "text/x-python",
   "name": "python",
   "nbconvert_exporter": "python",
   "pygments_lexer": "ipython3",
   "version": "3.12.9"
  },
  "mimetype": "text/x-python",
  "name": "python",
  "npconvert_exporter": "python",
  "pygments_lexer": "ipython3",
  "version": 3
 },
 "nbformat": 4,
 "nbformat_minor": 4
}
